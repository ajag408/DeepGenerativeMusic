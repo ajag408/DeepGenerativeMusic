{
  "nbformat": 4,
  "nbformat_minor": 0,
  "metadata": {
    "colab": {
      "name": "MusicGeneratorPiano-Inference.ipynb",
      "provenance": [],
      "collapsed_sections": [
        "TRiAye73zOfl",
        "EmSzoDqpjxE5",
        "LCAoHVQ11ASd",
        "G0YZVrlj1PCH"
      ],
      "include_colab_link": true
    },
    "kernelspec": {
      "name": "python3",
      "display_name": "Python 3"
    },
    "accelerator": "GPU",
    "widgets": {
      "application/vnd.jupyter.widget-state+json": {
        "52bfa3788e0e44659fbc75414ab0da4c": {
          "model_module": "@jupyter-widgets/controls",
          "model_name": "HBoxModel",
          "model_module_version": "1.5.0",
          "state": {
            "_dom_classes": [],
            "_model_module": "@jupyter-widgets/controls",
            "_model_module_version": "1.5.0",
            "_model_name": "HBoxModel",
            "_view_count": null,
            "_view_module": "@jupyter-widgets/controls",
            "_view_module_version": "1.5.0",
            "_view_name": "HBoxView",
            "box_style": "",
            "children": [
              "IPY_MODEL_69ca770d0c96409f9488be50959eb715",
              "IPY_MODEL_7f78cf84b79146539600a26660127d41",
              "IPY_MODEL_ba50ccf57b014437b71e0bacd7a06be7"
            ],
            "layout": "IPY_MODEL_2c6152887872451d9f8de33aca1dc4d0"
          }
        },
        "69ca770d0c96409f9488be50959eb715": {
          "model_module": "@jupyter-widgets/controls",
          "model_name": "HTMLModel",
          "model_module_version": "1.5.0",
          "state": {
            "_dom_classes": [],
            "_model_module": "@jupyter-widgets/controls",
            "_model_module_version": "1.5.0",
            "_model_name": "HTMLModel",
            "_view_count": null,
            "_view_module": "@jupyter-widgets/controls",
            "_view_module_version": "1.5.0",
            "_view_name": "HTMLView",
            "description": "",
            "description_tooltip": null,
            "layout": "IPY_MODEL_8f6598dbb7f54959ae80ace9f9f76e84",
            "placeholder": "​",
            "style": "IPY_MODEL_9a945379ea13447c8955fe9642cdf18c",
            "value": "genrt: 100%"
          }
        },
        "7f78cf84b79146539600a26660127d41": {
          "model_module": "@jupyter-widgets/controls",
          "model_name": "FloatProgressModel",
          "model_module_version": "1.5.0",
          "state": {
            "_dom_classes": [],
            "_model_module": "@jupyter-widgets/controls",
            "_model_module_version": "1.5.0",
            "_model_name": "FloatProgressModel",
            "_view_count": null,
            "_view_module": "@jupyter-widgets/controls",
            "_view_module_version": "1.5.0",
            "_view_name": "ProgressView",
            "bar_style": "success",
            "description": "",
            "description_tooltip": null,
            "layout": "IPY_MODEL_5b8b32385fac44fcb03bc5cbd2d39846",
            "max": 200,
            "min": 0,
            "orientation": "horizontal",
            "style": "IPY_MODEL_8b41ada863fd4e829479272480c54cf1",
            "value": 200
          }
        },
        "ba50ccf57b014437b71e0bacd7a06be7": {
          "model_module": "@jupyter-widgets/controls",
          "model_name": "HTMLModel",
          "model_module_version": "1.5.0",
          "state": {
            "_dom_classes": [],
            "_model_module": "@jupyter-widgets/controls",
            "_model_module_version": "1.5.0",
            "_model_name": "HTMLModel",
            "_view_count": null,
            "_view_module": "@jupyter-widgets/controls",
            "_view_module_version": "1.5.0",
            "_view_name": "HTMLView",
            "description": "",
            "description_tooltip": null,
            "layout": "IPY_MODEL_6eae1883b5e747b08e488f2182baab73",
            "placeholder": "​",
            "style": "IPY_MODEL_c895306c30844420a24f7f78decabdcd",
            "value": " 200/200 [00:18&lt;00:00, 16.79it/s]"
          }
        },
        "2c6152887872451d9f8de33aca1dc4d0": {
          "model_module": "@jupyter-widgets/base",
          "model_name": "LayoutModel",
          "model_module_version": "1.2.0",
          "state": {
            "_model_module": "@jupyter-widgets/base",
            "_model_module_version": "1.2.0",
            "_model_name": "LayoutModel",
            "_view_count": null,
            "_view_module": "@jupyter-widgets/base",
            "_view_module_version": "1.2.0",
            "_view_name": "LayoutView",
            "align_content": null,
            "align_items": null,
            "align_self": null,
            "border": null,
            "bottom": null,
            "display": null,
            "flex": null,
            "flex_flow": null,
            "grid_area": null,
            "grid_auto_columns": null,
            "grid_auto_flow": null,
            "grid_auto_rows": null,
            "grid_column": null,
            "grid_gap": null,
            "grid_row": null,
            "grid_template_areas": null,
            "grid_template_columns": null,
            "grid_template_rows": null,
            "height": null,
            "justify_content": null,
            "justify_items": null,
            "left": null,
            "margin": null,
            "max_height": null,
            "max_width": null,
            "min_height": null,
            "min_width": null,
            "object_fit": null,
            "object_position": null,
            "order": null,
            "overflow": null,
            "overflow_x": null,
            "overflow_y": null,
            "padding": null,
            "right": null,
            "top": null,
            "visibility": null,
            "width": null
          }
        },
        "8f6598dbb7f54959ae80ace9f9f76e84": {
          "model_module": "@jupyter-widgets/base",
          "model_name": "LayoutModel",
          "model_module_version": "1.2.0",
          "state": {
            "_model_module": "@jupyter-widgets/base",
            "_model_module_version": "1.2.0",
            "_model_name": "LayoutModel",
            "_view_count": null,
            "_view_module": "@jupyter-widgets/base",
            "_view_module_version": "1.2.0",
            "_view_name": "LayoutView",
            "align_content": null,
            "align_items": null,
            "align_self": null,
            "border": null,
            "bottom": null,
            "display": null,
            "flex": null,
            "flex_flow": null,
            "grid_area": null,
            "grid_auto_columns": null,
            "grid_auto_flow": null,
            "grid_auto_rows": null,
            "grid_column": null,
            "grid_gap": null,
            "grid_row": null,
            "grid_template_areas": null,
            "grid_template_columns": null,
            "grid_template_rows": null,
            "height": null,
            "justify_content": null,
            "justify_items": null,
            "left": null,
            "margin": null,
            "max_height": null,
            "max_width": null,
            "min_height": null,
            "min_width": null,
            "object_fit": null,
            "object_position": null,
            "order": null,
            "overflow": null,
            "overflow_x": null,
            "overflow_y": null,
            "padding": null,
            "right": null,
            "top": null,
            "visibility": null,
            "width": null
          }
        },
        "9a945379ea13447c8955fe9642cdf18c": {
          "model_module": "@jupyter-widgets/controls",
          "model_name": "DescriptionStyleModel",
          "model_module_version": "1.5.0",
          "state": {
            "_model_module": "@jupyter-widgets/controls",
            "_model_module_version": "1.5.0",
            "_model_name": "DescriptionStyleModel",
            "_view_count": null,
            "_view_module": "@jupyter-widgets/base",
            "_view_module_version": "1.2.0",
            "_view_name": "StyleView",
            "description_width": ""
          }
        },
        "5b8b32385fac44fcb03bc5cbd2d39846": {
          "model_module": "@jupyter-widgets/base",
          "model_name": "LayoutModel",
          "model_module_version": "1.2.0",
          "state": {
            "_model_module": "@jupyter-widgets/base",
            "_model_module_version": "1.2.0",
            "_model_name": "LayoutModel",
            "_view_count": null,
            "_view_module": "@jupyter-widgets/base",
            "_view_module_version": "1.2.0",
            "_view_name": "LayoutView",
            "align_content": null,
            "align_items": null,
            "align_self": null,
            "border": null,
            "bottom": null,
            "display": null,
            "flex": null,
            "flex_flow": null,
            "grid_area": null,
            "grid_auto_columns": null,
            "grid_auto_flow": null,
            "grid_auto_rows": null,
            "grid_column": null,
            "grid_gap": null,
            "grid_row": null,
            "grid_template_areas": null,
            "grid_template_columns": null,
            "grid_template_rows": null,
            "height": null,
            "justify_content": null,
            "justify_items": null,
            "left": null,
            "margin": null,
            "max_height": null,
            "max_width": null,
            "min_height": null,
            "min_width": null,
            "object_fit": null,
            "object_position": null,
            "order": null,
            "overflow": null,
            "overflow_x": null,
            "overflow_y": null,
            "padding": null,
            "right": null,
            "top": null,
            "visibility": null,
            "width": null
          }
        },
        "8b41ada863fd4e829479272480c54cf1": {
          "model_module": "@jupyter-widgets/controls",
          "model_name": "ProgressStyleModel",
          "model_module_version": "1.5.0",
          "state": {
            "_model_module": "@jupyter-widgets/controls",
            "_model_module_version": "1.5.0",
            "_model_name": "ProgressStyleModel",
            "_view_count": null,
            "_view_module": "@jupyter-widgets/base",
            "_view_module_version": "1.2.0",
            "_view_name": "StyleView",
            "bar_color": null,
            "description_width": ""
          }
        },
        "6eae1883b5e747b08e488f2182baab73": {
          "model_module": "@jupyter-widgets/base",
          "model_name": "LayoutModel",
          "model_module_version": "1.2.0",
          "state": {
            "_model_module": "@jupyter-widgets/base",
            "_model_module_version": "1.2.0",
            "_model_name": "LayoutModel",
            "_view_count": null,
            "_view_module": "@jupyter-widgets/base",
            "_view_module_version": "1.2.0",
            "_view_name": "LayoutView",
            "align_content": null,
            "align_items": null,
            "align_self": null,
            "border": null,
            "bottom": null,
            "display": null,
            "flex": null,
            "flex_flow": null,
            "grid_area": null,
            "grid_auto_columns": null,
            "grid_auto_flow": null,
            "grid_auto_rows": null,
            "grid_column": null,
            "grid_gap": null,
            "grid_row": null,
            "grid_template_areas": null,
            "grid_template_columns": null,
            "grid_template_rows": null,
            "height": null,
            "justify_content": null,
            "justify_items": null,
            "left": null,
            "margin": null,
            "max_height": null,
            "max_width": null,
            "min_height": null,
            "min_width": null,
            "object_fit": null,
            "object_position": null,
            "order": null,
            "overflow": null,
            "overflow_x": null,
            "overflow_y": null,
            "padding": null,
            "right": null,
            "top": null,
            "visibility": null,
            "width": null
          }
        },
        "c895306c30844420a24f7f78decabdcd": {
          "model_module": "@jupyter-widgets/controls",
          "model_name": "DescriptionStyleModel",
          "model_module_version": "1.5.0",
          "state": {
            "_model_module": "@jupyter-widgets/controls",
            "_model_module_version": "1.5.0",
            "_model_name": "DescriptionStyleModel",
            "_view_count": null,
            "_view_module": "@jupyter-widgets/base",
            "_view_module_version": "1.2.0",
            "_view_name": "StyleView",
            "description_width": ""
          }
        },
        "ac3f0a2ea80d4f1e8f2b7f36d38efefb": {
          "model_module": "@jupyter-widgets/controls",
          "model_name": "HBoxModel",
          "model_module_version": "1.5.0",
          "state": {
            "_dom_classes": [],
            "_model_module": "@jupyter-widgets/controls",
            "_model_module_version": "1.5.0",
            "_model_name": "HBoxModel",
            "_view_count": null,
            "_view_module": "@jupyter-widgets/controls",
            "_view_module_version": "1.5.0",
            "_view_name": "HBoxView",
            "box_style": "",
            "children": [
              "IPY_MODEL_5394a10ba1ff4578b95e922833cf1d3e",
              "IPY_MODEL_953d81f475b34be9b12a3c4df15dae66",
              "IPY_MODEL_9e26c31704c742fc8732154450459dc8"
            ],
            "layout": "IPY_MODEL_4676df403a8d4d41a2b494e77aa1063b"
          }
        },
        "5394a10ba1ff4578b95e922833cf1d3e": {
          "model_module": "@jupyter-widgets/controls",
          "model_name": "HTMLModel",
          "model_module_version": "1.5.0",
          "state": {
            "_dom_classes": [],
            "_model_module": "@jupyter-widgets/controls",
            "_model_module_version": "1.5.0",
            "_model_name": "HTMLModel",
            "_view_count": null,
            "_view_module": "@jupyter-widgets/controls",
            "_view_module_version": "1.5.0",
            "_view_name": "HTMLView",
            "description": "",
            "description_tooltip": null,
            "layout": "IPY_MODEL_c8582830627545128619cdbb96727ab9",
            "placeholder": "​",
            "style": "IPY_MODEL_f19018cd4ed7458780f63a736dee1e05",
            "value": "genrt: 100%"
          }
        },
        "953d81f475b34be9b12a3c4df15dae66": {
          "model_module": "@jupyter-widgets/controls",
          "model_name": "FloatProgressModel",
          "model_module_version": "1.5.0",
          "state": {
            "_dom_classes": [],
            "_model_module": "@jupyter-widgets/controls",
            "_model_module_version": "1.5.0",
            "_model_name": "FloatProgressModel",
            "_view_count": null,
            "_view_module": "@jupyter-widgets/controls",
            "_view_module_version": "1.5.0",
            "_view_name": "ProgressView",
            "bar_style": "success",
            "description": "",
            "description_tooltip": null,
            "layout": "IPY_MODEL_3271c83d405546ab87a350da90be3334",
            "max": 300,
            "min": 0,
            "orientation": "horizontal",
            "style": "IPY_MODEL_dbb6ed8710cf46608e908e4b490c0e34",
            "value": 300
          }
        },
        "9e26c31704c742fc8732154450459dc8": {
          "model_module": "@jupyter-widgets/controls",
          "model_name": "HTMLModel",
          "model_module_version": "1.5.0",
          "state": {
            "_dom_classes": [],
            "_model_module": "@jupyter-widgets/controls",
            "_model_module_version": "1.5.0",
            "_model_name": "HTMLModel",
            "_view_count": null,
            "_view_module": "@jupyter-widgets/controls",
            "_view_module_version": "1.5.0",
            "_view_name": "HTMLView",
            "description": "",
            "description_tooltip": null,
            "layout": "IPY_MODEL_deb1406d460a4559a23110253d61dc2c",
            "placeholder": "​",
            "style": "IPY_MODEL_028c225178214cbabe5a39edb1d17bc9",
            "value": " 300/300 [00:19&lt;00:00,  6.23it/s]"
          }
        },
        "4676df403a8d4d41a2b494e77aa1063b": {
          "model_module": "@jupyter-widgets/base",
          "model_name": "LayoutModel",
          "model_module_version": "1.2.0",
          "state": {
            "_model_module": "@jupyter-widgets/base",
            "_model_module_version": "1.2.0",
            "_model_name": "LayoutModel",
            "_view_count": null,
            "_view_module": "@jupyter-widgets/base",
            "_view_module_version": "1.2.0",
            "_view_name": "LayoutView",
            "align_content": null,
            "align_items": null,
            "align_self": null,
            "border": null,
            "bottom": null,
            "display": null,
            "flex": null,
            "flex_flow": null,
            "grid_area": null,
            "grid_auto_columns": null,
            "grid_auto_flow": null,
            "grid_auto_rows": null,
            "grid_column": null,
            "grid_gap": null,
            "grid_row": null,
            "grid_template_areas": null,
            "grid_template_columns": null,
            "grid_template_rows": null,
            "height": null,
            "justify_content": null,
            "justify_items": null,
            "left": null,
            "margin": null,
            "max_height": null,
            "max_width": null,
            "min_height": null,
            "min_width": null,
            "object_fit": null,
            "object_position": null,
            "order": null,
            "overflow": null,
            "overflow_x": null,
            "overflow_y": null,
            "padding": null,
            "right": null,
            "top": null,
            "visibility": null,
            "width": null
          }
        },
        "c8582830627545128619cdbb96727ab9": {
          "model_module": "@jupyter-widgets/base",
          "model_name": "LayoutModel",
          "model_module_version": "1.2.0",
          "state": {
            "_model_module": "@jupyter-widgets/base",
            "_model_module_version": "1.2.0",
            "_model_name": "LayoutModel",
            "_view_count": null,
            "_view_module": "@jupyter-widgets/base",
            "_view_module_version": "1.2.0",
            "_view_name": "LayoutView",
            "align_content": null,
            "align_items": null,
            "align_self": null,
            "border": null,
            "bottom": null,
            "display": null,
            "flex": null,
            "flex_flow": null,
            "grid_area": null,
            "grid_auto_columns": null,
            "grid_auto_flow": null,
            "grid_auto_rows": null,
            "grid_column": null,
            "grid_gap": null,
            "grid_row": null,
            "grid_template_areas": null,
            "grid_template_columns": null,
            "grid_template_rows": null,
            "height": null,
            "justify_content": null,
            "justify_items": null,
            "left": null,
            "margin": null,
            "max_height": null,
            "max_width": null,
            "min_height": null,
            "min_width": null,
            "object_fit": null,
            "object_position": null,
            "order": null,
            "overflow": null,
            "overflow_x": null,
            "overflow_y": null,
            "padding": null,
            "right": null,
            "top": null,
            "visibility": null,
            "width": null
          }
        },
        "f19018cd4ed7458780f63a736dee1e05": {
          "model_module": "@jupyter-widgets/controls",
          "model_name": "DescriptionStyleModel",
          "model_module_version": "1.5.0",
          "state": {
            "_model_module": "@jupyter-widgets/controls",
            "_model_module_version": "1.5.0",
            "_model_name": "DescriptionStyleModel",
            "_view_count": null,
            "_view_module": "@jupyter-widgets/base",
            "_view_module_version": "1.2.0",
            "_view_name": "StyleView",
            "description_width": ""
          }
        },
        "3271c83d405546ab87a350da90be3334": {
          "model_module": "@jupyter-widgets/base",
          "model_name": "LayoutModel",
          "model_module_version": "1.2.0",
          "state": {
            "_model_module": "@jupyter-widgets/base",
            "_model_module_version": "1.2.0",
            "_model_name": "LayoutModel",
            "_view_count": null,
            "_view_module": "@jupyter-widgets/base",
            "_view_module_version": "1.2.0",
            "_view_name": "LayoutView",
            "align_content": null,
            "align_items": null,
            "align_self": null,
            "border": null,
            "bottom": null,
            "display": null,
            "flex": null,
            "flex_flow": null,
            "grid_area": null,
            "grid_auto_columns": null,
            "grid_auto_flow": null,
            "grid_auto_rows": null,
            "grid_column": null,
            "grid_gap": null,
            "grid_row": null,
            "grid_template_areas": null,
            "grid_template_columns": null,
            "grid_template_rows": null,
            "height": null,
            "justify_content": null,
            "justify_items": null,
            "left": null,
            "margin": null,
            "max_height": null,
            "max_width": null,
            "min_height": null,
            "min_width": null,
            "object_fit": null,
            "object_position": null,
            "order": null,
            "overflow": null,
            "overflow_x": null,
            "overflow_y": null,
            "padding": null,
            "right": null,
            "top": null,
            "visibility": null,
            "width": null
          }
        },
        "dbb6ed8710cf46608e908e4b490c0e34": {
          "model_module": "@jupyter-widgets/controls",
          "model_name": "ProgressStyleModel",
          "model_module_version": "1.5.0",
          "state": {
            "_model_module": "@jupyter-widgets/controls",
            "_model_module_version": "1.5.0",
            "_model_name": "ProgressStyleModel",
            "_view_count": null,
            "_view_module": "@jupyter-widgets/base",
            "_view_module_version": "1.2.0",
            "_view_name": "StyleView",
            "bar_color": null,
            "description_width": ""
          }
        },
        "deb1406d460a4559a23110253d61dc2c": {
          "model_module": "@jupyter-widgets/base",
          "model_name": "LayoutModel",
          "model_module_version": "1.2.0",
          "state": {
            "_model_module": "@jupyter-widgets/base",
            "_model_module_version": "1.2.0",
            "_model_name": "LayoutModel",
            "_view_count": null,
            "_view_module": "@jupyter-widgets/base",
            "_view_module_version": "1.2.0",
            "_view_name": "LayoutView",
            "align_content": null,
            "align_items": null,
            "align_self": null,
            "border": null,
            "bottom": null,
            "display": null,
            "flex": null,
            "flex_flow": null,
            "grid_area": null,
            "grid_auto_columns": null,
            "grid_auto_flow": null,
            "grid_auto_rows": null,
            "grid_column": null,
            "grid_gap": null,
            "grid_row": null,
            "grid_template_areas": null,
            "grid_template_columns": null,
            "grid_template_rows": null,
            "height": null,
            "justify_content": null,
            "justify_items": null,
            "left": null,
            "margin": null,
            "max_height": null,
            "max_width": null,
            "min_height": null,
            "min_width": null,
            "object_fit": null,
            "object_position": null,
            "order": null,
            "overflow": null,
            "overflow_x": null,
            "overflow_y": null,
            "padding": null,
            "right": null,
            "top": null,
            "visibility": null,
            "width": null
          }
        },
        "028c225178214cbabe5a39edb1d17bc9": {
          "model_module": "@jupyter-widgets/controls",
          "model_name": "DescriptionStyleModel",
          "model_module_version": "1.5.0",
          "state": {
            "_model_module": "@jupyter-widgets/controls",
            "_model_module_version": "1.5.0",
            "_model_name": "DescriptionStyleModel",
            "_view_count": null,
            "_view_module": "@jupyter-widgets/base",
            "_view_module_version": "1.2.0",
            "_view_name": "StyleView",
            "description_width": ""
          }
        }
      }
    }
  },
  "cells": [
    {
      "cell_type": "markdown",
      "metadata": {
        "id": "view-in-github",
        "colab_type": "text"
      },
      "source": [
        "<a href=\"https://colab.research.google.com/github/ajag408/DeepGenerativeMusic/blob/main/MusicGeneratorPiano_Inference.ipynb\" target=\"_parent\"><img src=\"https://colab.research.google.com/assets/colab-badge.svg\" alt=\"Open In Colab\"/></a>"
      ]
    },
    {
      "cell_type": "code",
      "source": [
        "from google.colab import drive\n",
        "drive.mount('/content/drive')"
      ],
      "metadata": {
        "colab": {
          "base_uri": "https://localhost:8080/"
        },
        "id": "jFYTT_IXvy5w",
        "outputId": "aaefe219-d1fe-4c05-f01b-f9876beca64e"
      },
      "execution_count": 30,
      "outputs": [
        {
          "output_type": "stream",
          "name": "stdout",
          "text": [
            "Drive already mounted at /content/drive; to attempt to forcibly remount, call drive.mount(\"/content/drive\", force_remount=True).\n"
          ]
        }
      ]
    },
    {
      "cell_type": "code",
      "source": [
        "import os\n",
        "os.chdir('/content/drive/Shareddrives/295/Code/RNN_Transformer')"
      ],
      "metadata": {
        "id": "Cd8Vxvc3v6Sa"
      },
      "execution_count": 31,
      "outputs": []
    },
    {
      "cell_type": "code",
      "source": [
        "!sudo apt-get install python3.8"
      ],
      "metadata": {
        "colab": {
          "base_uri": "https://localhost:8080/"
        },
        "id": "x_hKKHhgz-oU",
        "outputId": "30ca10ad-742c-47f1-afac-f838e7dd4681"
      },
      "execution_count": 32,
      "outputs": [
        {
          "output_type": "stream",
          "name": "stdout",
          "text": [
            "Reading package lists... Done\n",
            "Building dependency tree       \n",
            "Reading state information... Done\n",
            "python3.8 is already the newest version (3.8.12-1+bionic3).\n",
            "0 upgraded, 0 newly installed, 0 to remove and 39 not upgraded.\n"
          ]
        }
      ]
    },
    {
      "cell_type": "code",
      "source": [
        "!pip install -q library\n",
        "!pip install numpy==1.19.5"
      ],
      "metadata": {
        "id": "MUQY8BjhwVOP",
        "colab": {
          "base_uri": "https://localhost:8080/"
        },
        "outputId": "55398839-a390-43b4-887b-9f85c527246d"
      },
      "execution_count": 33,
      "outputs": [
        {
          "output_type": "stream",
          "name": "stdout",
          "text": [
            "\u001b[33mWARNING: Running pip as the 'root' user can result in broken permissions and conflicting behaviour with the system package manager. It is recommended to use a virtual environment instead: https://pip.pypa.io/warnings/venv\u001b[0m\u001b[33m\n",
            "\u001b[0mCollecting numpy==1.19.5\n",
            "  Using cached numpy-1.19.5-cp37-cp37m-manylinux2010_x86_64.whl (14.8 MB)\n",
            "Installing collected packages: numpy\n",
            "  Attempting uninstall: numpy\n",
            "    Found existing installation: numpy 1.19.2\n",
            "    Uninstalling numpy-1.19.2:\n",
            "      Successfully uninstalled numpy-1.19.2\n",
            "\u001b[31mERROR: pip's dependency resolver does not currently take into account all the packages that are installed. This behaviour is the source of the following dependency conflicts.\n",
            "datascience 0.10.6 requires folium==0.2.1, but you have folium 0.8.3 which is incompatible.\n",
            "albumentations 0.1.12 requires imgaug<0.2.7,>=0.2.5, but you have imgaug 0.2.9 which is incompatible.\u001b[0m\u001b[31m\n",
            "\u001b[0mSuccessfully installed numpy-1.19.5\n",
            "\u001b[33mWARNING: Running pip as the 'root' user can result in broken permissions and conflicting behaviour with the system package manager. It is recommended to use a virtual environment instead: https://pip.pypa.io/warnings/venv\u001b[0m\u001b[33m\n",
            "\u001b[0m"
          ]
        }
      ]
    },
    {
      "cell_type": "code",
      "source": [
        "!pip install pretty_midi"
      ],
      "metadata": {
        "id": "8Qrighg4wXXW",
        "colab": {
          "base_uri": "https://localhost:8080/"
        },
        "outputId": "2681c8f1-67b3-40e9-c0a0-6ba9f15e3782"
      },
      "execution_count": 34,
      "outputs": [
        {
          "output_type": "stream",
          "name": "stdout",
          "text": [
            "Requirement already satisfied: pretty_midi in /usr/local/lib/python3.7/dist-packages (0.2.9)\n",
            "Requirement already satisfied: numpy>=1.7.0 in /usr/local/lib/python3.7/dist-packages (from pretty_midi) (1.19.5)\n",
            "Requirement already satisfied: six in /usr/local/lib/python3.7/dist-packages (from pretty_midi) (1.15.0)\n",
            "Requirement already satisfied: mido>=1.1.16 in /usr/local/lib/python3.7/dist-packages (from pretty_midi) (1.2.10)\n",
            "\u001b[33mWARNING: Running pip as the 'root' user can result in broken permissions and conflicting behaviour with the system package manager. It is recommended to use a virtual environment instead: https://pip.pypa.io/warnings/venv\u001b[0m\u001b[33m\n",
            "\u001b[0m"
          ]
        }
      ]
    },
    {
      "cell_type": "code",
      "source": [
        "!pip install --upgrade pip\n",
        "!pip install tensorflow==2.2.0rc4"
      ],
      "metadata": {
        "id": "Z805OEv0xUGy",
        "colab": {
          "base_uri": "https://localhost:8080/"
        },
        "outputId": "c134e74d-3672-4895-cd10-1897abcf4fb5"
      },
      "execution_count": 35,
      "outputs": [
        {
          "output_type": "stream",
          "name": "stdout",
          "text": [
            "Requirement already satisfied: pip in /usr/local/lib/python3.7/dist-packages (22.0.4)\n",
            "\u001b[33mWARNING: Running pip as the 'root' user can result in broken permissions and conflicting behaviour with the system package manager. It is recommended to use a virtual environment instead: https://pip.pypa.io/warnings/venv\u001b[0m\u001b[33m\n",
            "\u001b[0mRequirement already satisfied: tensorflow==2.2.0rc4 in /usr/local/lib/python3.7/dist-packages (2.2.0rc4)\n",
            "Requirement already satisfied: scipy==1.4.1 in /usr/local/lib/python3.7/dist-packages (from tensorflow==2.2.0rc4) (1.4.1)\n",
            "Requirement already satisfied: six>=1.12.0 in /usr/local/lib/python3.7/dist-packages (from tensorflow==2.2.0rc4) (1.15.0)\n",
            "Requirement already satisfied: grpcio>=1.8.6 in /usr/local/lib/python3.7/dist-packages (from tensorflow==2.2.0rc4) (1.44.0)\n",
            "Requirement already satisfied: protobuf>=3.8.0 in /usr/local/lib/python3.7/dist-packages (from tensorflow==2.2.0rc4) (3.17.3)\n",
            "Requirement already satisfied: tensorboard<2.3.0,>=2.2.0 in /usr/local/lib/python3.7/dist-packages (from tensorflow==2.2.0rc4) (2.2.2)\n",
            "Requirement already satisfied: keras-preprocessing>=1.1.0 in /usr/local/lib/python3.7/dist-packages (from tensorflow==2.2.0rc4) (1.1.2)\n",
            "Requirement already satisfied: wheel>=0.26 in /usr/local/lib/python3.7/dist-packages (from tensorflow==2.2.0rc4) (0.37.1)\n",
            "Requirement already satisfied: h5py<2.11.0,>=2.10.0 in /usr/local/lib/python3.7/dist-packages (from tensorflow==2.2.0rc4) (2.10.0)\n",
            "Requirement already satisfied: tensorflow-estimator<2.3.0,>=2.2.0 in /usr/local/lib/python3.7/dist-packages (from tensorflow==2.2.0rc4) (2.2.0)\n",
            "Requirement already satisfied: gast==0.3.3 in /usr/local/lib/python3.7/dist-packages (from tensorflow==2.2.0rc4) (0.3.3)\n",
            "Requirement already satisfied: termcolor>=1.1.0 in /usr/local/lib/python3.7/dist-packages (from tensorflow==2.2.0rc4) (1.1.0)\n",
            "Requirement already satisfied: google-pasta>=0.1.8 in /usr/local/lib/python3.7/dist-packages (from tensorflow==2.2.0rc4) (0.2.0)\n",
            "Requirement already satisfied: opt-einsum>=2.3.2 in /usr/local/lib/python3.7/dist-packages (from tensorflow==2.2.0rc4) (3.3.0)\n",
            "Requirement already satisfied: astunparse==1.6.3 in /usr/local/lib/python3.7/dist-packages (from tensorflow==2.2.0rc4) (1.6.3)\n",
            "Requirement already satisfied: wrapt>=1.11.1 in /usr/local/lib/python3.7/dist-packages (from tensorflow==2.2.0rc4) (1.13.3)\n",
            "Requirement already satisfied: absl-py>=0.7.0 in /usr/local/lib/python3.7/dist-packages (from tensorflow==2.2.0rc4) (1.0.0)\n",
            "Requirement already satisfied: numpy<2.0,>=1.16.0 in /usr/local/lib/python3.7/dist-packages (from tensorflow==2.2.0rc4) (1.19.5)\n",
            "Requirement already satisfied: werkzeug>=0.11.15 in /usr/local/lib/python3.7/dist-packages (from tensorboard<2.3.0,>=2.2.0->tensorflow==2.2.0rc4) (1.0.1)\n",
            "Requirement already satisfied: setuptools>=41.0.0 in /usr/local/lib/python3.7/dist-packages (from tensorboard<2.3.0,>=2.2.0->tensorflow==2.2.0rc4) (57.4.0)\n",
            "Requirement already satisfied: requests<3,>=2.21.0 in /usr/local/lib/python3.7/dist-packages (from tensorboard<2.3.0,>=2.2.0->tensorflow==2.2.0rc4) (2.23.0)\n",
            "Requirement already satisfied: google-auth-oauthlib<0.5,>=0.4.1 in /usr/local/lib/python3.7/dist-packages (from tensorboard<2.3.0,>=2.2.0->tensorflow==2.2.0rc4) (0.4.6)\n",
            "Requirement already satisfied: markdown>=2.6.8 in /usr/local/lib/python3.7/dist-packages (from tensorboard<2.3.0,>=2.2.0->tensorflow==2.2.0rc4) (3.3.6)\n",
            "Requirement already satisfied: tensorboard-plugin-wit>=1.6.0 in /usr/local/lib/python3.7/dist-packages (from tensorboard<2.3.0,>=2.2.0->tensorflow==2.2.0rc4) (1.8.1)\n",
            "Requirement already satisfied: google-auth<2,>=1.6.3 in /usr/local/lib/python3.7/dist-packages (from tensorboard<2.3.0,>=2.2.0->tensorflow==2.2.0rc4) (1.35.0)\n",
            "Requirement already satisfied: cachetools<5.0,>=2.0.0 in /usr/local/lib/python3.7/dist-packages (from google-auth<2,>=1.6.3->tensorboard<2.3.0,>=2.2.0->tensorflow==2.2.0rc4) (4.2.4)\n",
            "Requirement already satisfied: rsa<5,>=3.1.4 in /usr/local/lib/python3.7/dist-packages (from google-auth<2,>=1.6.3->tensorboard<2.3.0,>=2.2.0->tensorflow==2.2.0rc4) (4.8)\n",
            "Requirement already satisfied: pyasn1-modules>=0.2.1 in /usr/local/lib/python3.7/dist-packages (from google-auth<2,>=1.6.3->tensorboard<2.3.0,>=2.2.0->tensorflow==2.2.0rc4) (0.2.8)\n",
            "Requirement already satisfied: requests-oauthlib>=0.7.0 in /usr/local/lib/python3.7/dist-packages (from google-auth-oauthlib<0.5,>=0.4.1->tensorboard<2.3.0,>=2.2.0->tensorflow==2.2.0rc4) (1.3.1)\n",
            "Requirement already satisfied: importlib-metadata>=4.4 in /usr/local/lib/python3.7/dist-packages (from markdown>=2.6.8->tensorboard<2.3.0,>=2.2.0->tensorflow==2.2.0rc4) (4.11.2)\n",
            "Requirement already satisfied: idna<3,>=2.5 in /usr/local/lib/python3.7/dist-packages (from requests<3,>=2.21.0->tensorboard<2.3.0,>=2.2.0->tensorflow==2.2.0rc4) (2.10)\n",
            "Requirement already satisfied: urllib3!=1.25.0,!=1.25.1,<1.26,>=1.21.1 in /usr/local/lib/python3.7/dist-packages (from requests<3,>=2.21.0->tensorboard<2.3.0,>=2.2.0->tensorflow==2.2.0rc4) (1.24.3)\n",
            "Requirement already satisfied: chardet<4,>=3.0.2 in /usr/local/lib/python3.7/dist-packages (from requests<3,>=2.21.0->tensorboard<2.3.0,>=2.2.0->tensorflow==2.2.0rc4) (3.0.4)\n",
            "Requirement already satisfied: certifi>=2017.4.17 in /usr/local/lib/python3.7/dist-packages (from requests<3,>=2.21.0->tensorboard<2.3.0,>=2.2.0->tensorflow==2.2.0rc4) (2021.10.8)\n",
            "Requirement already satisfied: typing-extensions>=3.6.4 in /usr/local/lib/python3.7/dist-packages (from importlib-metadata>=4.4->markdown>=2.6.8->tensorboard<2.3.0,>=2.2.0->tensorflow==2.2.0rc4) (3.10.0.2)\n",
            "Requirement already satisfied: zipp>=0.5 in /usr/local/lib/python3.7/dist-packages (from importlib-metadata>=4.4->markdown>=2.6.8->tensorboard<2.3.0,>=2.2.0->tensorflow==2.2.0rc4) (3.7.0)\n",
            "Requirement already satisfied: pyasn1<0.5.0,>=0.4.6 in /usr/local/lib/python3.7/dist-packages (from pyasn1-modules>=0.2.1->google-auth<2,>=1.6.3->tensorboard<2.3.0,>=2.2.0->tensorflow==2.2.0rc4) (0.4.8)\n",
            "Requirement already satisfied: oauthlib>=3.0.0 in /usr/local/lib/python3.7/dist-packages (from requests-oauthlib>=0.7.0->google-auth-oauthlib<0.5,>=0.4.1->tensorboard<2.3.0,>=2.2.0->tensorflow==2.2.0rc4) (3.2.0)\n",
            "\u001b[33mWARNING: Running pip as the 'root' user can result in broken permissions and conflicting behaviour with the system package manager. It is recommended to use a virtual environment instead: https://pip.pypa.io/warnings/venv\u001b[0m\u001b[33m\n",
            "\u001b[0m"
          ]
        }
      ]
    },
    {
      "cell_type": "code",
      "source": [
        "!pip install -U numpy==1.19.2\n"
      ],
      "metadata": {
        "colab": {
          "base_uri": "https://localhost:8080/"
        },
        "id": "sms1HMLmzIaF",
        "outputId": "4c2d01fd-b909-4c25-fc63-b586d25ab6df"
      },
      "execution_count": 36,
      "outputs": [
        {
          "output_type": "stream",
          "name": "stdout",
          "text": [
            "Collecting numpy==1.19.2\n",
            "  Using cached numpy-1.19.2-cp37-cp37m-manylinux2010_x86_64.whl (14.5 MB)\n",
            "Installing collected packages: numpy\n",
            "  Attempting uninstall: numpy\n",
            "    Found existing installation: numpy 1.19.5\n",
            "    Uninstalling numpy-1.19.5:\n",
            "      Successfully uninstalled numpy-1.19.5\n",
            "\u001b[31mERROR: pip's dependency resolver does not currently take into account all the packages that are installed. This behaviour is the source of the following dependency conflicts.\n",
            "datascience 0.10.6 requires folium==0.2.1, but you have folium 0.8.3 which is incompatible.\n",
            "albumentations 0.1.12 requires imgaug<0.2.7,>=0.2.5, but you have imgaug 0.2.9 which is incompatible.\u001b[0m\u001b[31m\n",
            "\u001b[0mSuccessfully installed numpy-1.19.2\n",
            "\u001b[33mWARNING: Running pip as the 'root' user can result in broken permissions and conflicting behaviour with the system package manager. It is recommended to use a virtual environment instead: https://pip.pypa.io/warnings/venv\u001b[0m\u001b[33m\n",
            "\u001b[0m"
          ]
        }
      ]
    },
    {
      "metadata": {
        "id": "uMzP7jHiMi1S"
      },
      "cell_type": "code",
      "source": [
        "import tensorflow as tf\n",
        "from tensorflow.keras import backend as K\n",
        "import glob\n",
        "import random\n",
        "import pretty_midi\n",
        "import IPython\n",
        "import numpy as np\n",
        "from tqdm import tnrange, tqdm_notebook, tqdm\n",
        "from random import shuffle, seed\n",
        "import numpy as np\n",
        "from tensorflow.keras.losses import sparse_categorical_crossentropy\n",
        "from tensorflow.keras.optimizers import Nadam\n",
        "import numpy as np\n",
        "from numpy.random import choice\n",
        "import pickle\n",
        "import matplotlib.pyplot as plt\n",
        "\n",
        "import unicodedata\n",
        "import re\n",
        "import numpy as np\n",
        "import os\n",
        "import io\n",
        "import time\n",
        "\n",
        "def piano_roll_to_pretty_midi(piano_roll, fs=100, program=0):\n",
        "    '''Convert a Piano Roll array into a PrettyMidi object\n",
        "     with a single instrument.\n",
        "    Parameters\n",
        "    ----------\n",
        "    piano_roll : np.ndarray, shape=(128,frames), dtype=int\n",
        "        Piano roll of one instrument\n",
        "    fs : int\n",
        "        Sampling frequency of the columns, i.e. each column is spaced apart\n",
        "        by ``1./fs`` seconds.\n",
        "    program : int\n",
        "        The program number of the instrument.\n",
        "    Returns\n",
        "    -------\n",
        "    midi_object : pretty_midi.PrettyMIDI\n",
        "        A pretty_midi.PrettyMIDI class instance describing\n",
        "        the piano roll.\n",
        "    '''\n",
        "    notes, frames = piano_roll.shape\n",
        "    pm = pretty_midi.PrettyMIDI()\n",
        "    instrument = pretty_midi.Instrument(program=program)\n",
        "\n",
        "    # pad 1 column of zeros so we can acknowledge inital and ending events\n",
        "    piano_roll = np.pad(piano_roll, [(0, 0), (1, 1)], 'constant')\n",
        "\n",
        "    # use changes in velocities to find note on / note off events\n",
        "    velocity_changes = np.nonzero(np.diff(piano_roll).T)\n",
        "\n",
        "    # keep track on velocities and note on times\n",
        "    prev_velocities = np.zeros(notes, dtype=int)\n",
        "    note_on_time = np.zeros(notes)\n",
        "\n",
        "    for time, note in zip(*velocity_changes):\n",
        "        # use time + 1 because of padding above\n",
        "        velocity = piano_roll[note, time + 1]\n",
        "        time = time / fs\n",
        "        if velocity > 0:\n",
        "            if prev_velocities[note] == 0:\n",
        "                note_on_time[note] = time\n",
        "                prev_velocities[note] = velocity\n",
        "        else:\n",
        "            pm_note = pretty_midi.Note(\n",
        "                velocity=prev_velocities[note],\n",
        "                pitch=note,\n",
        "                start=note_on_time[note],\n",
        "                end=time)\n",
        "            instrument.notes.append(pm_note)\n",
        "            prev_velocities[note] = 0\n",
        "    pm.instruments.append(instrument)\n",
        "    return pm\n"
      ],
      "execution_count": 37,
      "outputs": []
    },
    {
      "metadata": {
        "id": "-aqumPylvXq0"
      },
      "cell_type": "code",
      "source": [
        "# !wget https://storage.googleapis.com/magentadata/datasets/maestro/v1.0.0/maestro-v1.0.0-midi.zip"
      ],
      "execution_count": 38,
      "outputs": []
    },
    {
      "metadata": {
        "id": "Maf04wQGPCPy"
      },
      "cell_type": "code",
      "source": [
        "# !unzip maestro-v1.0.0-midi.zip"
      ],
      "execution_count": 39,
      "outputs": []
    },
    {
      "metadata": {
        "id": "T8vmvNgUwY8C"
      },
      "cell_type": "markdown",
      "source": [
        "# Get All Midi Files"
      ]
    },
    {
      "metadata": {
        "id": "OaAywDhmO2Nr"
      },
      "cell_type": "code",
      "source": [
        "def get_list_midi(folder = 'maestro-v1.0.0/**/*.midi', seed_int = 666):\n",
        "  \"\"\"Get the list of all midi file in the folders\n",
        "  \n",
        "  Parameters\n",
        "  ==========\n",
        "  folder : str\n",
        "    The midi folder.\n",
        "  seed_int : int\n",
        "    the random seed.\n",
        "  \n",
        "  Returns\n",
        "  =======\n",
        "  The midi files\n",
        "  \n",
        "  \"\"\"\n",
        "  list_all_midi = glob.glob(folder)\n",
        "  seed(seed_int)\n",
        "  shuffle(list_all_midi)\n",
        "  return list_all_midi\n",
        "\n",
        "list_all_midi = get_list_midi()"
      ],
      "execution_count": 40,
      "outputs": []
    },
    {
      "metadata": {
        "id": "-BHFcA4awsq9"
      },
      "cell_type": "markdown",
      "source": [
        "# Prepare some functions\n",
        "See its documentation to see the function"
      ]
    },
    {
      "metadata": {
        "id": "9XE-Om6DP15C"
      },
      "cell_type": "code",
      "source": [
        "class NoteTokenizer:\n",
        "    \n",
        "    def __init__(self):\n",
        "      self.notes_to_index = {}\n",
        "      self.index_to_notes = {}\n",
        "      self.num_of_word = 0\n",
        "      self.unique_word = 0\n",
        "      self.notes_freq = {}\n",
        "        \n",
        "    def transform(self,list_array):\n",
        "      \"\"\" Transform a list of note in string into index.\n",
        "      \n",
        "      Parameters\n",
        "      ==========\n",
        "      list_array : list\n",
        "        list of note in string format\n",
        "      \n",
        "      Returns\n",
        "      =======\n",
        "      The transformed list in numpy array.\n",
        "      \n",
        "      \"\"\"\n",
        "      transformed_list = []\n",
        "      for instance in list_array:\n",
        "          transformed_list.append([self.notes_to_index[note] for note in instance])\n",
        "      return np.array(transformed_list, dtype=np.int32)\n",
        " \n",
        "    def partial_fit(self, notes):\n",
        "        \"\"\" Partial fit on the dictionary of the tokenizer\n",
        "        \n",
        "        Parameters\n",
        "        ==========\n",
        "        notes : list of notes\n",
        "        \n",
        "        \"\"\"\n",
        "        for note in notes:\n",
        "            note_str = ','.join(str(a) for a in note)\n",
        "            if note_str in self.notes_freq:\n",
        "                self.notes_freq[note_str] += 1\n",
        "                self.num_of_word += 1\n",
        "            else:\n",
        "                self.notes_freq[note_str] = 1\n",
        "                self.unique_word += 1\n",
        "                self.num_of_word += 1\n",
        "                self.notes_to_index[note_str], self.index_to_notes[self.unique_word] = self.unique_word, note_str\n",
        "            \n",
        "    def add_new_note(self, note):\n",
        "        \"\"\" Add a new note into the dictionary\n",
        "\n",
        "        Parameters\n",
        "        ==========\n",
        "        note : str\n",
        "          a new note who is not in dictionary.  \n",
        "\n",
        "        \"\"\"\n",
        "        assert note not in self.notes_to_index\n",
        "        self.unique_word += 1\n",
        "        self.notes_to_index[note], self.index_to_notes[self.unique_word] = self.unique_word, note\n",
        "        \n",
        "def generate_batch_song(list_all_midi, batch_music=16, start_index=0, fs=30, seq_len=50, use_tqdm=False):\n",
        "    \"\"\"\n",
        "    Generate Batch music that will be used to be input and output of the neural network\n",
        "    \n",
        "    Parameters\n",
        "    ==========\n",
        "    list_all_midi : list\n",
        "      List of midi files\n",
        "    batch_music : int\n",
        "      A number of music in one batch\n",
        "    start_index : int\n",
        "      The start index to be batched in list_all_midi\n",
        "    fs : int\n",
        "      Sampling frequency of the columns, i.e. each column is spaced apart\n",
        "        by ``1./fs`` seconds.\n",
        "    seq_len : int\n",
        "      The sequence length of the music to be input of neural network\n",
        "    use_tqdm : bool\n",
        "      Whether to use tqdm or not in the function\n",
        "    \n",
        "    Returns\n",
        "    =======\n",
        "    Tuple of input and target neural network\n",
        "    \n",
        "    \"\"\"\n",
        "    \n",
        "    assert len(list_all_midi) >= batch_music\n",
        "    dict_time_notes = generate_dict_time_notes(list_all_midi, batch_music, start_index, fs, use_tqdm=use_tqdm)\n",
        "    \n",
        "    list_musics = process_notes_in_song(dict_time_notes, seq_len)\n",
        "    collected_list_input, collected_list_target = [], []\n",
        "     \n",
        "    for music in list_musics:\n",
        "        list_training, list_target = generate_input_and_target(music, seq_len)\n",
        "        collected_list_input += list_training\n",
        "        collected_list_target += list_target\n",
        "    return collected_list_input, collected_list_target\n",
        "\n",
        "def generate_dict_time_notes(list_all_midi, batch_song = 16, start_index=0, fs=30, use_tqdm=True):\n",
        "    \"\"\" Generate map (dictionary) of music ( in index ) to piano_roll (in np.array)\n",
        "\n",
        "    Parameters\n",
        "    ==========\n",
        "    list_all_midi : list\n",
        "        List of midi files\n",
        "    batch_music : int\n",
        "      A number of music in one batch\n",
        "    start_index : int\n",
        "      The start index to be batched in list_all_midi\n",
        "    fs : int\n",
        "      Sampling frequency of the columns, i.e. each column is spaced apart\n",
        "        by ``1./fs`` seconds.\n",
        "    use_tqdm : bool\n",
        "      Whether to use tqdm or not in the function\n",
        "\n",
        "    Returns\n",
        "    =======\n",
        "    dictionary of music to piano_roll (in np.array)\n",
        "\n",
        "    \"\"\"\n",
        "    assert len(list_all_midi) >= batch_song\n",
        "    \n",
        "    dict_time_notes = {}\n",
        "    process_tqdm_midi = tqdm_notebook(range(start_index, min(start_index + batch_song, len(list_all_midi)))) if use_tqdm else range(start_index,  min(start_index + batch_song, len(list_all_midi)))\n",
        "    for i in process_tqdm_midi:\n",
        "        midi_file_name = list_all_midi[i]\n",
        "        if use_tqdm:\n",
        "            process_tqdm_midi.set_description(\"Processing {}\".format(midi_file_name))\n",
        "        try: # Handle exception on malformat MIDI files\n",
        "            midi_pretty_format = pretty_midi.PrettyMIDI(midi_file_name)\n",
        "            piano_midi = midi_pretty_format.instruments[0] # Get the piano channels\n",
        "            piano_roll = piano_midi.get_piano_roll(fs=fs)\n",
        "            dict_time_notes[i] = piano_roll\n",
        "        except Exception as e:\n",
        "            print(e)\n",
        "            print(\"broken file : {}\".format(midi_file_name))\n",
        "            pass\n",
        "    return dict_time_notes\n",
        "\n",
        "def generate_input_and_target(dict_keys_time, seq_len=50):\n",
        "    \"\"\" Generate input and the target of our deep learning for one music.\n",
        "    \n",
        "    Parameters\n",
        "    ==========\n",
        "    dict_keys_time : dict\n",
        "      Dictionary of timestep and notes\n",
        "    seq_len : int\n",
        "      The length of the sequence\n",
        "      \n",
        "    Returns\n",
        "    =======\n",
        "    Tuple of list of input and list of target of neural network.\n",
        "    \n",
        "       \n",
        "    \"\"\"\n",
        "    # Get the start time and end time\n",
        "    start_time, end_time = list(dict_keys_time.keys())[0], list(dict_keys_time.keys())[-1]\n",
        "    list_training, list_target = [], []\n",
        "    for index_enum, time in enumerate(range(start_time, end_time)):\n",
        "        list_append_training, list_append_target = [], []\n",
        "        start_iterate = 0\n",
        "        flag_target_append = False # flag to append the test list\n",
        "        if index_enum < seq_len:\n",
        "            start_iterate = seq_len - index_enum - 1\n",
        "            for i in range(start_iterate): # add 'e' to the seq list. \n",
        "                list_append_training.append('e')\n",
        "                flag_target_append = True\n",
        "\n",
        "        for i in range(start_iterate,seq_len):\n",
        "            index_enum = time - (seq_len - i - 1)\n",
        "            if index_enum in dict_keys_time:\n",
        "                list_append_training.append(','.join(str(x) for x in dict_keys_time[index_enum]))      \n",
        "            else:\n",
        "                list_append_training.append('e')\n",
        "\n",
        "        # add time + 1 to the list_append_target\n",
        "        if time+1 in dict_keys_time:\n",
        "            list_append_target.append(','.join(str(x) for x in dict_keys_time[time+1]))\n",
        "        else:\n",
        "            list_append_target.append('e')\n",
        "        list_training.append(list_append_training)\n",
        "        list_target.append(list_append_target)\n",
        "    return list_training, list_target\n",
        "\n",
        "def process_notes_in_song(dict_time_notes, seq_len = 50):\n",
        "    \"\"\"\n",
        "    Iterate the dict of piano rolls into dictionary of timesteps and note played\n",
        "    \n",
        "    Parameters\n",
        "    ==========\n",
        "    dict_time_notes : dict\n",
        "      dict contains index of music ( in index ) to piano_roll (in np.array)\n",
        "    seq_len : int\n",
        "      Length of the sequence\n",
        "      \n",
        "    Returns\n",
        "    =======\n",
        "    Dict of timesteps and note played\n",
        "    \"\"\"\n",
        "    list_of_dict_keys_time = []\n",
        "    \n",
        "    for key in dict_time_notes:\n",
        "        sample = dict_time_notes[key]\n",
        "        times = np.unique(np.where(sample > 0)[1])\n",
        "        index = np.where(sample > 0)\n",
        "        dict_keys_time = {}\n",
        "\n",
        "        for time in times:\n",
        "            index_where = np.where(index[1] == time)\n",
        "            notes = index[0][index_where]\n",
        "            dict_keys_time[time] = notes\n",
        "        list_of_dict_keys_time.append(dict_keys_time)\n",
        "    return list_of_dict_keys_time\n",
        "\n"
      ],
      "execution_count": 41,
      "outputs": []
    },
    {
      "metadata": {
        "id": "TRiAye73zOfl"
      },
      "cell_type": "markdown",
      "source": [
        "# Sample 100 midi files from the datasets\n",
        "These midi files will be used to train the neural network"
      ]
    },
    {
      "metadata": {
        "id": "SS13kaENP3_d"
      },
      "cell_type": "code",
      "source": [
        "# Get 200 midis file from the datasets.. \n",
        "\n",
        "# sampled_200_midi = list_all_midi[0:100]  "
      ],
      "execution_count": 57,
      "outputs": []
    },
    {
      "metadata": {
        "id": "qGDSkeDlzeT_"
      },
      "cell_type": "markdown",
      "source": [
        "We create a map of note -> index here using NoteTokenizer that we've defined before.  \n",
        "This object will be used to transform the list of notes to be ready for the input of Neural Network"
      ]
    },
    {
      "metadata": {
        "id": "5gyoC7E6zdlI"
      },
      "cell_type": "code",
      "source": [
        "# batch = 1\n",
        "# start_index = 0\n",
        "# note_tokenizer = NoteTokenizer()\n",
        "\n",
        "# for i in tqdm_notebook(range(len(sampled_200_midi))):\n",
        "#     dict_time_notes = generate_dict_time_notes(sampled_200_midi, batch_song=1, start_index=i, use_tqdm=False, fs=5)\n",
        "#     full_notes = process_notes_in_song(dict_time_notes)\n",
        "#     for note in full_notes:\n",
        "#         note_tokenizer.partial_fit(list(note.values()))\n",
        "   "
      ],
      "execution_count": 58,
      "outputs": []
    },
    {
      "metadata": {
        "id": "RkdXvcqQWWQv"
      },
      "cell_type": "code",
      "source": [
        "# note_tokenizer.add_new_note('e') # Add empty notes"
      ],
      "execution_count": 59,
      "outputs": []
    },
    {
      "metadata": {
        "id": "7VXnQp3bXAKy"
      },
      "cell_type": "code",
      "source": [
        "# unique_notes = note_tokenizer.unique_word\n",
        "# print(unique_notes)"
      ],
      "execution_count": 60,
      "outputs": []
    },
    {
      "metadata": {
        "id": "8XGrcuYUT8J3"
      },
      "cell_type": "markdown",
      "source": [
        "# Make Architecture\n",
        "Now we will make the architecture.. \n",
        "We will try to make the architecture as follow:\n",
        "1. Embedding\n",
        "2. LSTM\n",
        "3. Self Head Attention\n",
        "4. LSTM\n",
        "5. Self Head Attention\n",
        "6. Dense"
      ]
    },
    {
      "metadata": {
        "id": "n0a4gE9QcFGx"
      },
      "cell_type": "code",
      "source": [
        "seq_len = 50\n",
        "EPOCHS = 4\n",
        "BATCH_SONG = 16\n",
        "BATCH_NNET_SIZE = 96\n",
        "TOTAL_SONGS = len(sampled_200_midi)\n",
        "FRAME_PER_SECOND = 5\n"
      ],
      "execution_count": 44,
      "outputs": []
    },
    {
      "metadata": {
        "id": "XzBSK2hDW8_w"
      },
      "cell_type": "code",
      "source": [
        ""
      ],
      "execution_count": 44,
      "outputs": []
    },
    {
      "metadata": {
        "id": "W3W60QHdVQF1"
      },
      "cell_type": "markdown",
      "source": [
        "We will use the code from here for self-attention  \n",
        "https://github.com/CyberZHG/keras-self-attention/blob/master/keras_self_attention/seq_self_attention.py"
      ]
    },
    {
      "metadata": {
        "id": "5TQW22YOVUVx"
      },
      "cell_type": "code",
      "source": [
        "class SeqSelfAttention(tf.keras.layers.Layer):\n",
        "\n",
        "    ATTENTION_TYPE_ADD = 'additive'\n",
        "    ATTENTION_TYPE_MUL = 'multiplicative'\n",
        "\n",
        "    def __init__(self,\n",
        "                 units=32,\n",
        "                 attention_width=None,\n",
        "                 attention_type=ATTENTION_TYPE_ADD,\n",
        "                 return_attention=False,\n",
        "                 history_only=False,\n",
        "                 kernel_initializer='glorot_normal',\n",
        "                 bias_initializer='zeros',\n",
        "                 kernel_regularizer=None,\n",
        "                 bias_regularizer=None,\n",
        "                 kernel_constraint=None,\n",
        "                 bias_constraint=None,\n",
        "                 use_additive_bias=True,\n",
        "                 use_attention_bias=True,\n",
        "                 attention_activation=None,\n",
        "                 attention_regularizer_weight=0.0,\n",
        "                 **kwargs):\n",
        "        \"\"\"Layer initialization.\n",
        "        For additive attention, see: https://arxiv.org/pdf/1806.01264.pdf\n",
        "        :param units: The dimension of the vectors that used to calculate the attention weights.\n",
        "        :param attention_width: The width of local attention.\n",
        "        :param attention_type: 'additive' or 'multiplicative'.\n",
        "        :param return_attention: Whether to return the attention weights for visualization.\n",
        "        :param history_only: Only use historical pieces of data.\n",
        "        :param kernel_initializer: The initializer for weight matrices.\n",
        "        :param bias_initializer: The initializer for biases.\n",
        "        :param kernel_regularizer: The regularization for weight matrices.\n",
        "        :param bias_regularizer: The regularization for biases.\n",
        "        :param kernel_constraint: The constraint for weight matrices.\n",
        "        :param bias_constraint: The constraint for biases.\n",
        "        :param use_additive_bias: Whether to use bias while calculating the relevance of inputs features\n",
        "                                  in additive mode.\n",
        "        :param use_attention_bias: Whether to use bias while calculating the weights of attention.\n",
        "        :param attention_activation: The activation used for calculating the weights of attention.\n",
        "        :param attention_regularizer_weight: The weights of attention regularizer.\n",
        "        :param kwargs: Parameters for parent class.\n",
        "        \"\"\"\n",
        "        self.supports_masking = True\n",
        "        self.units = units\n",
        "        self.attention_width = attention_width\n",
        "        self.attention_type = attention_type\n",
        "        self.return_attention = return_attention\n",
        "        self.history_only = history_only\n",
        "        if history_only and attention_width is None:\n",
        "            self.attention_width = int(1e9)\n",
        "\n",
        "        self.use_additive_bias = use_additive_bias\n",
        "        self.use_attention_bias = use_attention_bias\n",
        "        self.kernel_initializer = tf.keras.initializers.get(kernel_initializer)\n",
        "        self.bias_initializer = tf.keras.initializers.get(bias_initializer)\n",
        "        self.kernel_regularizer = tf.keras.regularizers.get(kernel_regularizer)\n",
        "        self.bias_regularizer = tf.keras.regularizers.get(bias_regularizer)\n",
        "        self.kernel_constraint = tf.keras.constraints.get(kernel_constraint)\n",
        "        self.bias_constraint = tf.keras.constraints.get(bias_constraint)\n",
        "        self.attention_activation = tf.keras.activations.get(attention_activation)\n",
        "        self.attention_regularizer_weight = attention_regularizer_weight\n",
        "        self._backend = tf.keras.backend.backend()\n",
        "\n",
        "        if attention_type == SeqSelfAttention.ATTENTION_TYPE_ADD:\n",
        "            self.Wx, self.Wt, self.bh = None, None, None\n",
        "            self.Wa, self.ba = None, None\n",
        "        elif attention_type == SeqSelfAttention.ATTENTION_TYPE_MUL:\n",
        "            self.Wa, self.ba = None, None\n",
        "        else:\n",
        "            raise NotImplementedError('No implementation for attention type : ' + attention_type)\n",
        "\n",
        "        super(SeqSelfAttention, self).__init__(**kwargs)\n",
        "\n",
        "    def get_config(self):\n",
        "        config = {\n",
        "            'units': self.units,\n",
        "            'attention_width': self.attention_width,\n",
        "            'attention_type': self.attention_type,\n",
        "            'return_attention': self.return_attention,\n",
        "            'history_only': self.history_only,\n",
        "            'use_additive_bias': self.use_additive_bias,\n",
        "            'use_attention_bias': self.use_attention_bias,\n",
        "            'kernel_initializer': tf.keras.regularizers.serialize(self.kernel_initializer),\n",
        "            'bias_initializer': tf.keras.regularizers.serialize(self.bias_initializer),\n",
        "            'kernel_regularizer': tf.keras.regularizers.serialize(self.kernel_regularizer),\n",
        "            'bias_regularizer': tf.keras.regularizers.serialize(self.bias_regularizer),\n",
        "            'kernel_constraint': tf.keras.constraints.serialize(self.kernel_constraint),\n",
        "            'bias_constraint': tf.keras.constraints.serialize(self.bias_constraint),\n",
        "            'attention_activation': tf.keras.activations.serialize(self.attention_activation),\n",
        "            'attention_regularizer_weight': self.attention_regularizer_weight,\n",
        "        }\n",
        "        base_config = super(SeqSelfAttention, self).get_config()\n",
        "        return dict(list(base_config.items()) + list(config.items()))\n",
        "\n",
        "    def build(self, input_shape):\n",
        "        if isinstance(input_shape, list):\n",
        "            input_shape = input_shape[0]\n",
        "        if self.attention_type == SeqSelfAttention.ATTENTION_TYPE_ADD:\n",
        "            self._build_additive_attention(input_shape)\n",
        "        elif self.attention_type == SeqSelfAttention.ATTENTION_TYPE_MUL:\n",
        "            self._build_multiplicative_attention(input_shape)\n",
        "        super(SeqSelfAttention, self).build(input_shape)\n",
        "\n",
        "    def _build_additive_attention(self, input_shape):\n",
        "        feature_dim = input_shape[2]\n",
        "\n",
        "        self.Wt = self.add_weight(shape=(feature_dim, self.units),\n",
        "                                  name='{}_Add_Wt'.format(self.name),\n",
        "                                  initializer=self.kernel_initializer,\n",
        "                                  regularizer=self.kernel_regularizer,\n",
        "                                  constraint=self.kernel_constraint)\n",
        "        self.Wx = self.add_weight(shape=(feature_dim, self.units),\n",
        "                                  name='{}_Add_Wx'.format(self.name),\n",
        "                                  initializer=self.kernel_initializer,\n",
        "                                  regularizer=self.kernel_regularizer,\n",
        "                                  constraint=self.kernel_constraint)\n",
        "        if self.use_additive_bias:\n",
        "            self.bh = self.add_weight(shape=(self.units,),\n",
        "                                      name='{}_Add_bh'.format(self.name),\n",
        "                                      initializer=self.bias_initializer,\n",
        "                                      regularizer=self.bias_regularizer,\n",
        "                                      constraint=self.bias_constraint)\n",
        "\n",
        "        self.Wa = self.add_weight(shape=(self.units, 1),\n",
        "                                  name='{}_Add_Wa'.format(self.name),\n",
        "                                  initializer=self.kernel_initializer,\n",
        "                                  regularizer=self.kernel_regularizer,\n",
        "                                  constraint=self.kernel_constraint)\n",
        "        if self.use_attention_bias:\n",
        "            self.ba = self.add_weight(shape=(1,),\n",
        "                                      name='{}_Add_ba'.format(self.name),\n",
        "                                      initializer=self.bias_initializer,\n",
        "                                      regularizer=self.bias_regularizer,\n",
        "                                      constraint=self.bias_constraint)\n",
        "\n",
        "    def _build_multiplicative_attention(self, input_shape):\n",
        "        feature_dim = input_shape[2]\n",
        "\n",
        "        self.Wa = self.add_weight(shape=(feature_dim, feature_dim),\n",
        "                                  name='{}_Mul_Wa'.format(self.name),\n",
        "                                  initializer=self.kernel_initializer,\n",
        "                                  regularizer=self.kernel_regularizer,\n",
        "                                  constraint=self.kernel_constraint)\n",
        "        if self.use_attention_bias:\n",
        "            self.ba = self.add_weight(shape=(1,),\n",
        "                                      name='{}_Mul_ba'.format(self.name),\n",
        "                                      initializer=self.bias_initializer,\n",
        "                                      regularizer=self.bias_regularizer,\n",
        "                                      constraint=self.bias_constraint)\n",
        "\n",
        "    def call(self, inputs, mask=None, **kwargs):\n",
        "        if isinstance(inputs, list):\n",
        "            inputs, positions = inputs\n",
        "            positions = K.cast(positions, 'int32')\n",
        "            mask = mask[1]\n",
        "        else:\n",
        "            positions = None\n",
        "\n",
        "        input_len = K.shape(inputs)[1]\n",
        "\n",
        "        if self.attention_type == SeqSelfAttention.ATTENTION_TYPE_ADD:\n",
        "            e = self._call_additive_emission(inputs)\n",
        "        elif self.attention_type == SeqSelfAttention.ATTENTION_TYPE_MUL:\n",
        "            e = self._call_multiplicative_emission(inputs)\n",
        "\n",
        "        if self.attention_activation is not None:\n",
        "            e = self.attention_activation(e)\n",
        "        e = K.exp(e - K.max(e, axis=-1, keepdims=True))\n",
        "        if self.attention_width is not None:\n",
        "            ones = tf.ones((input_len, input_len))\n",
        "            if self.history_only:\n",
        "                local = tf.linalg.band_part(\n",
        "                    ones,\n",
        "                    K.minimum(input_len, self.attention_width - 1),\n",
        "                    0,\n",
        "                )\n",
        "            else:\n",
        "                local = tf.linalg.band_part(\n",
        "                    ones,\n",
        "                    K.minimum(input_len, self.attention_width // 2),\n",
        "                    K.minimum(input_len, (self.attention_width - 1) // 2),\n",
        "                )\n",
        "            e = e * K.expand_dims(local, 0)\n",
        "        if mask is not None:\n",
        "            mask = K.cast(mask, K.floatx())\n",
        "            mask = K.expand_dims(mask)\n",
        "            e = K.permute_dimensions(K.permute_dimensions(e * mask, (0, 2, 1)) * mask, (0, 2, 1))\n",
        "\n",
        "        # a_{t} = \\text{softmax}(e_t)\n",
        "        s = K.sum(e, axis=-1)\n",
        "        s = K.tile(K.expand_dims(s, axis=-1), K.stack([1, 1, input_len]))\n",
        "        a = e / (s + K.epsilon())\n",
        "\n",
        "        # l_t = \\sum_{t'} a_{t, t'} x_{t'}\n",
        "        v = K.batch_dot(a, inputs)\n",
        "        if self.attention_regularizer_weight > 0.0:\n",
        "            self.add_loss(self._attention_regularizer(a))\n",
        "\n",
        "        if positions is not None:\n",
        "            pos_num = K.shape(positions)[1]\n",
        "            batch_indices = K.tile(K.expand_dims(K.arange(K.shape(inputs)[0]), axis=-1), K.stack([1, pos_num]))\n",
        "            pos_indices = K.stack([batch_indices, positions], axis=-1)\n",
        "            v = tf.gather_nd(v, pos_indices)\n",
        "            a = tf.gather_nd(a, pos_indices)\n",
        "\n",
        "        if self.return_attention:\n",
        "            return [v, a]\n",
        "        return v\n",
        "\n",
        "    def _call_additive_emission(self, inputs):\n",
        "        input_shape = K.shape(inputs)\n",
        "        batch_size, input_len = input_shape[0], input_shape[1]\n",
        "\n",
        "        # h_{t, t'} = \\tanh(x_t^T W_t + x_{t'}^T W_x + b_h)\n",
        "        q, k = K.dot(inputs, self.Wt), K.dot(inputs, self.Wx)\n",
        "        q = K.tile(K.expand_dims(q, 2), K.stack([1, 1, input_len, 1]))\n",
        "        k = K.tile(K.expand_dims(k, 1), K.stack([1, input_len, 1, 1]))\n",
        "        if self.use_additive_bias:\n",
        "            h = K.tanh(q + k + self.bh)\n",
        "        else:\n",
        "            h = K.tanh(q + k)\n",
        "\n",
        "        # e_{t, t'} = W_a h_{t, t'} + b_a\n",
        "        if self.use_attention_bias:\n",
        "            e = K.reshape(K.dot(h, self.Wa) + self.ba, (batch_size, input_len, input_len))\n",
        "        else:\n",
        "            e = K.reshape(K.dot(h, self.Wa), (batch_size, input_len, input_len))\n",
        "        return e\n",
        "\n",
        "    def _call_multiplicative_emission(self, inputs):\n",
        "        # e_{t, t'} = x_t^T W_a x_{t'} + b_a\n",
        "        e = K.batch_dot(K.dot(inputs, self.Wa), K.permute_dimensions(inputs, (0, 2, 1)))\n",
        "        if self.use_attention_bias:\n",
        "            e = e + self.ba\n",
        "        return e\n",
        "\n",
        "    def compute_output_shape(self, input_shape):\n",
        "        if isinstance(input_shape, list):\n",
        "            input_shape, pos_shape = input_shape\n",
        "            output_shape = (input_shape[0], pos_shape[1], input_shape[2])\n",
        "        else:\n",
        "            output_shape = input_shape\n",
        "        if self.return_attention:\n",
        "            attention_shape = (input_shape[0], output_shape[1], input_shape[1])\n",
        "            return [output_shape, attention_shape]\n",
        "        return output_shape\n",
        "\n",
        "    def compute_mask(self, inputs, mask=None):\n",
        "        if isinstance(inputs, list):\n",
        "            mask = mask[1]\n",
        "        if self.return_attention:\n",
        "            return [mask, None]\n",
        "        return mask\n",
        "\n",
        "    def _attention_regularizer(self, attention):\n",
        "        batch_size = K.cast(K.shape(attention)[0], K.floatx())\n",
        "        input_len = K.shape(attention)[-1]\n",
        "        return self.attention_regularizer_weight * K.sum(K.square(K.batch_dot(\n",
        "            attention,\n",
        "            K.permute_dimensions(attention, (0, 2, 1))) - tf.eye(input_len))) / batch_size\n",
        "\n",
        "    @staticmethod\n",
        "    def get_custom_objects():\n",
        "      return {'SeqSelfAttention': SeqSelfAttention}"
      ],
      "execution_count": 45,
      "outputs": []
    },
    {
      "metadata": {
        "id": "VounAZqR9MWH"
      },
      "cell_type": "code",
      "source": [
        "def create_model(seq_len, unique_notes, dropout=0.3, output_emb=100, rnn_unit=128, dense_unit=64):\n",
        "  inputs = tf.keras.layers.Input(shape=(seq_len,))\n",
        "  embedding = tf.keras.layers.Embedding(input_dim=unique_notes+1, output_dim=output_emb, input_length=seq_len)(inputs)\n",
        "  forward_pass = tf.keras.layers.Bidirectional(tf.keras.layers.GRU(rnn_unit, return_sequences=True))(embedding)\n",
        "  forward_pass , att_vector = SeqSelfAttention(\n",
        "      return_attention=True,\n",
        "      attention_activation='sigmoid', \n",
        "      attention_type=SeqSelfAttention.ATTENTION_TYPE_MUL,\n",
        "      attention_width=50, \n",
        "      kernel_regularizer=tf.keras.regularizers.l2(1e-4),\n",
        "      bias_regularizer=tf.keras.regularizers.l1(1e-4),\n",
        "      attention_regularizer_weight=1e-4,\n",
        "  )(forward_pass)\n",
        "  forward_pass = tf.keras.layers.Dropout(dropout)(forward_pass)\n",
        "  forward_pass = tf.keras.layers.Bidirectional(tf.keras.layers.GRU(rnn_unit, return_sequences=True))(forward_pass)\n",
        "  forward_pass , att_vector2 = SeqSelfAttention(\n",
        "      return_attention=True,\n",
        "      attention_activation='sigmoid', \n",
        "      attention_type=SeqSelfAttention.ATTENTION_TYPE_MUL,\n",
        "      attention_width=50, \n",
        "      kernel_regularizer=tf.keras.regularizers.l2(1e-4),\n",
        "      bias_regularizer=tf.keras.regularizers.l1(1e-4),\n",
        "      attention_regularizer_weight=1e-4,\n",
        "  )(forward_pass)\n",
        "  forward_pass = tf.keras.layers.Dropout(dropout)(forward_pass)\n",
        "  forward_pass = tf.keras.layers.Bidirectional(tf.keras.layers.GRU(rnn_unit))(forward_pass)\n",
        "  forward_pass = tf.keras.layers.Dropout(dropout)(forward_pass)\n",
        "  forward_pass = tf.keras.layers.Dense(dense_unit)(forward_pass)\n",
        "  forward_pass = tf.keras.layers.LeakyReLU()(forward_pass)\n",
        "  outputs = tf.keras.layers.Dense(unique_notes+1, activation = \"softmax\")(forward_pass)\n",
        "\n",
        "  model = tf.keras.Model(inputs=inputs, outputs=outputs, name='generate_scores_rnn')\n",
        "  return model\n",
        "\n",
        "model = create_model(seq_len, unique_notes)"
      ],
      "execution_count": 46,
      "outputs": []
    },
    {
      "metadata": {
        "id": "dUgxJaPQf757",
        "outputId": "b7489b60-ce30-4e9c-db97-506a7f7faa34",
        "colab": {
          "base_uri": "https://localhost:8080/"
        }
      },
      "cell_type": "code",
      "source": [
        "model.summary()"
      ],
      "execution_count": 47,
      "outputs": [
        {
          "output_type": "stream",
          "name": "stdout",
          "text": [
            "Model: \"generate_scores_rnn\"\n",
            "_________________________________________________________________\n",
            " Layer (type)                Output Shape              Param #   \n",
            "=================================================================\n",
            " input_2 (InputLayer)        [(None, 50)]              0         \n",
            "                                                                 \n",
            " embedding_1 (Embedding)     (None, 50, 100)           200       \n",
            "                                                                 \n",
            " bidirectional_3 (Bidirectio  (None, 50, 256)          176640    \n",
            " nal)                                                            \n",
            "                                                                 \n",
            " seq_self_attention_2 (SeqSe  [(None, 50, 256),        65537     \n",
            " lfAttention)                 (None, 50, 50)]                    \n",
            "                                                                 \n",
            " dropout_3 (Dropout)         (None, 50, 256)           0         \n",
            "                                                                 \n",
            " bidirectional_4 (Bidirectio  (None, 50, 256)          296448    \n",
            " nal)                                                            \n",
            "                                                                 \n",
            " seq_self_attention_3 (SeqSe  [(None, 50, 256),        65537     \n",
            " lfAttention)                 (None, 50, 50)]                    \n",
            "                                                                 \n",
            " dropout_4 (Dropout)         (None, 50, 256)           0         \n",
            "                                                                 \n",
            " bidirectional_5 (Bidirectio  (None, 256)              296448    \n",
            " nal)                                                            \n",
            "                                                                 \n",
            " dropout_5 (Dropout)         (None, 256)               0         \n",
            "                                                                 \n",
            " dense_2 (Dense)             (None, 64)                16448     \n",
            "                                                                 \n",
            " leaky_re_lu_1 (LeakyReLU)   (None, 64)                0         \n",
            "                                                                 \n",
            " dense_3 (Dense)             (None, 2)                 130       \n",
            "                                                                 \n",
            "=================================================================\n",
            "Total params: 917,388\n",
            "Trainable params: 917,388\n",
            "Non-trainable params: 0\n",
            "_________________________________________________________________\n"
          ]
        }
      ]
    },
    {
      "metadata": {
        "id": "rwGkN3KiiZ-H",
        "outputId": "c786fc23-5895-468d-9b4a-41ef8da3ac43",
        "colab": {
          "base_uri": "https://localhost:8080/",
          "height": 1000
        }
      },
      "cell_type": "code",
      "source": [
        "tf.keras.utils.plot_model(model, 'this_model.png', show_shapes=True)"
      ],
      "execution_count": 48,
      "outputs": [
        {
          "output_type": "execute_result",
          "data": {
            "text/plain": [
              "<IPython.core.display.Image object>"
            ],
            "image/png": "[encoded data removed]"
          },
          "metadata": {},
          "execution_count": 48
        }
      ]
    },
    {
      "metadata": {
        "id": "EmSzoDqpjxE5"
      },
      "cell_type": "markdown",
      "source": [
        "# Train"
      ]
    },
    {
      "metadata": {
        "id": "x0xN3s3yobJQ"
      },
      "cell_type": "code",
      "source": [
        "# import os\n",
        "# optimizer = Nadam()\n",
        "\n",
        "# checkpoint = tf.train.Checkpoint(optimizer=optimizer,\n",
        "#                                  model=model)\n",
        "# checkpoint_dir = './training_checkpoints'\n",
        "# checkpoint_prefix = os.path.join(checkpoint_dir, \"ckpt\")\n",
        "# loss_fn = sparse_categorical_crossentropy\n"
      ],
      "execution_count": null,
      "outputs": []
    },
    {
      "metadata": {
        "id": "XGng437qnIpY"
      },
      "cell_type": "code",
      "source": [
        "# class TrainModel:\n",
        "  \n",
        "#   def __init__(self, epochs, note_tokenizer, sampled_200_midi, frame_per_second, \n",
        "#                batch_nnet_size, batch_song, optimizer, checkpoint, loss_fn,\n",
        "#                checkpoint_prefix, total_songs, model):\n",
        "#     self.epochs = epochs\n",
        "#     self.note_tokenizer = note_tokenizer\n",
        "#     self.sampled_200_midi = sampled_200_midi\n",
        "#     self.frame_per_second = frame_per_second\n",
        "#     self.batch_nnet_size = batch_nnet_size\n",
        "#     self.batch_song = batch_song\n",
        "#     self.optimizer = optimizer\n",
        "#     self.checkpoint = checkpoint\n",
        "#     self.loss_fn = loss_fn\n",
        "#     self.checkpoint_prefix = checkpoint_prefix\n",
        "#     self.total_songs = total_songs\n",
        "#     self.model = model\n",
        "    \n",
        "#   def train(self):\n",
        "#     for epoch in tqdm_notebook(range(self.epochs),desc='epochs'):\n",
        "#       # for each epochs, we shufle the list of all the datasets\n",
        "#       shuffle(self.sampled_200_midi)\n",
        "#       loss_total = 0\n",
        "#       steps = 0\n",
        "#       steps_nnet = 0\n",
        "\n",
        "#       # We will iterate all songs by self.song_size\n",
        "#       for i in tqdm_notebook(range(0,self.total_songs, self.batch_song), desc='MUSIC'):\n",
        "\n",
        "#         steps += 1\n",
        "#         inputs_nnet_large, outputs_nnet_large = generate_batch_song(\n",
        "#             self.sampled_200_midi, self.batch_song, start_index=i, fs=self.frame_per_second, \n",
        "#             seq_len=seq_len, use_tqdm=False) # We use the function that have been defined here\n",
        "#         inputs_nnet_large = np.array(self.note_tokenizer.transform(inputs_nnet_large), dtype=np.int32)\n",
        "#         outputs_nnet_large = np.array(self.note_tokenizer.transform(outputs_nnet_large), dtype=np.int32)\n",
        "\n",
        "#         index_shuffled = np.arange(start=0, stop=len(inputs_nnet_large))\n",
        "#         np.random.shuffle(index_shuffled)\n",
        "\n",
        "#         for nnet_steps in tqdm_notebook(range(0,len(index_shuffled),self.batch_nnet_size)):\n",
        "#           steps_nnet += 1\n",
        "#           current_index = index_shuffled[nnet_steps:nnet_steps+self.batch_nnet_size]\n",
        "#           inputs_nnet, outputs_nnet = inputs_nnet_large[current_index], outputs_nnet_large[current_index]\n",
        "          \n",
        "#           # To make sure no exception thrown by tensorflow on autograph\n",
        "#           if len(inputs_nnet) // self.batch_nnet_size != 1:\n",
        "#             break\n",
        "#           loss = self.train_step(inputs_nnet, outputs_nnet)\n",
        "#           loss_total += tf.math.reduce_sum(loss)\n",
        "#           if steps_nnet % 20 == 0:\n",
        "#             print(\"epochs {} | Steps {} | total loss : {}\".format(epoch + 1, steps_nnet, loss_total))\n",
        "\n",
        "#       checkpoint.save(file_prefix = self.checkpoint_prefix)\n",
        "  \n",
        "#   @tf.function\n",
        "#   def train_step(self, inputs, targets):\n",
        "#     with tf.GradientTape() as tape:\n",
        "#       prediction = self.model(inputs)\n",
        "#       loss = self.loss_fn(targets, prediction)\n",
        "#     gradients = tape.gradient(loss, self.model.trainable_variables)\n",
        "#     self.optimizer.apply_gradients(zip(gradients, self.model.trainable_variables))\n",
        "#     return loss"
      ],
      "execution_count": null,
      "outputs": []
    },
    {
      "metadata": {
        "id": "LCAoHVQ11ASd"
      },
      "cell_type": "markdown",
      "source": [
        "# Train Here\n",
        "Beware that the time of one epoch is around 1 hour."
      ]
    },
    {
      "metadata": {
        "id": "fIbHBr1trNUP"
      },
      "cell_type": "code",
      "source": [
        "# seq_len = 50\n",
        "# EPOCHS = 4\n",
        "# BATCH_SONG = 16\n",
        "# BATCH_NNET_SIZE = 96\n",
        "# TOTAL_SONGS = len(sampled_200_midi)\n",
        "# FRAME_PER_SECOND = 5\n",
        "\n",
        "# train_class = TrainModel(EPOCHS, note_tokenizer, sampled_200_midi, FRAME_PER_SECOND,\n",
        "#                   BATCH_NNET_SIZE, BATCH_SONG, optimizer, checkpoint, loss_fn,\n",
        "#                   checkpoint_prefix, TOTAL_SONGS, model)\n",
        "\n",
        "# train_class.train()"
      ],
      "execution_count": 61,
      "outputs": []
    },
    {
      "metadata": {
        "id": "G0YZVrlj1PCH"
      },
      "cell_type": "markdown",
      "source": [
        "# Save the model as h5 and The Tokenizer"
      ]
    },
    {
      "metadata": {
        "id": "9cYPiBIZ9pUI"
      },
      "cell_type": "code",
      "source": [
        "# model.save('model_ep4.h5')\n",
        "# pickle.dump( note_tokenizer, open( \"tokenizer.p\", \"wb\" ) )"
      ],
      "execution_count": 62,
      "outputs": []
    },
    {
      "metadata": {
        "id": "VCARY5DB2F3Y"
      },
      "cell_type": "markdown",
      "source": [
        "# Try To load the model and the Tokenizer"
      ]
    },
    {
      "metadata": {
        "id": "jw1aCPCXxbwG",
        "outputId": "32a8c621-1525-4af5-d05d-91819e0eae27",
        "colab": {
          "base_uri": "https://localhost:8080/"
        }
      },
      "cell_type": "code",
      "source": [
        "model = tf.keras.models.load_model('model_ep4.h5', custom_objects=SeqSelfAttention.get_custom_objects())\n",
        "note_tokenizer  = pickle.load( open( \"tokenizer.p\", \"rb\" ) )"
      ],
      "execution_count": 49,
      "outputs": [
        {
          "output_type": "stream",
          "name": "stdout",
          "text": [
            "WARNING:tensorflow:No training configuration found in the save file, so the model was *not* compiled. Compile it manually.\n"
          ]
        }
      ]
    },
    {
      "metadata": {
        "id": "oLtB11sJ2T2g"
      },
      "cell_type": "markdown",
      "source": [
        "# Generate Midi Files"
      ]
    },
    {
      "metadata": {
        "id": "WUubXZFWmz_l"
      },
      "cell_type": "code",
      "source": [
        "def generate_from_random(unique_notes, seq_len=50):\n",
        "  generate = np.random.randint(0,unique_notes,seq_len).tolist()\n",
        "  return generate\n",
        "    \n",
        "def generate_from_one_note(note_tokenizer, new_notes='35'):\n",
        "  generate = [note_tokenizer.notes_to_index['e'] for i in range(49)]\n",
        "  generate += [note_tokenizer.notes_to_index[new_notes]]\n",
        "  return generate"
      ],
      "execution_count": 50,
      "outputs": []
    },
    {
      "metadata": {
        "id": "auOai0dppfC2"
      },
      "cell_type": "code",
      "source": [
        "def generate_notes(generate, model, unique_notes, max_generated=1000, seq_len=50):\n",
        "  for i in tqdm_notebook(range(max_generated), desc='genrt'):\n",
        "    test_input = np.array([generate])[:,i:i+seq_len]\n",
        "    predicted_note = model.predict(test_input)\n",
        "    random_note_pred = choice(unique_notes+1, 1, replace=False, p=predicted_note[0])\n",
        "    generate.append(random_note_pred[0])\n",
        "  return generate"
      ],
      "execution_count": 51,
      "outputs": []
    },
    {
      "metadata": {
        "id": "Z13PBRKZqlKH"
      },
      "cell_type": "code",
      "source": [
        "def write_midi_file_from_generated(generate, midi_file_name = \"result.mid\", start_index=49, fs=8, max_generated=1000):\n",
        "  note_string = [note_tokenizer.index_to_notes[ind_note] for ind_note in generate]\n",
        "  array_piano_roll = np.zeros((128,max_generated+1), dtype=np.int16)\n",
        "  for index, note in enumerate(note_string[start_index:]):\n",
        "    if note == 'e':\n",
        "      pass\n",
        "    else:\n",
        "      splitted_note = note.split(',')\n",
        "      for j in splitted_note:\n",
        "        array_piano_roll[int(j),index] = 1\n",
        "  generate_to_midi = piano_roll_to_pretty_midi(array_piano_roll, fs=fs)\n",
        "  print(\"Tempo {}\".format(generate_to_midi.estimate_tempo()))\n",
        "  for note in generate_to_midi.instruments[0].notes:\n",
        "    note.velocity = 100\n",
        "  generate_to_midi.write(midi_file_name)"
      ],
      "execution_count": 52,
      "outputs": []
    },
    {
      "metadata": {
        "id": "-PJcnpf8mUKG",
        "outputId": "782df03a-ba1b-4dd2-a52a-1e0103a86c55",
        "colab": {
          "base_uri": "https://localhost:8080/",
          "height": 118,
          "referenced_widgets": [
            "52bfa3788e0e44659fbc75414ab0da4c",
            "69ca770d0c96409f9488be50959eb715",
            "7f78cf84b79146539600a26660127d41",
            "ba50ccf57b014437b71e0bacd7a06be7",
            "2c6152887872451d9f8de33aca1dc4d0",
            "8f6598dbb7f54959ae80ace9f9f76e84",
            "9a945379ea13447c8955fe9642cdf18c",
            "5b8b32385fac44fcb03bc5cbd2d39846",
            "8b41ada863fd4e829479272480c54cf1",
            "6eae1883b5e747b08e488f2182baab73",
            "c895306c30844420a24f7f78decabdcd"
          ]
        }
      },
      "cell_type": "code",
      "source": [
        "max_generate = 200\n",
        "unique_notes = note_tokenizer.unique_word\n",
        "seq_len=50\n",
        "generate = generate_from_random(unique_notes, seq_len)\n",
        "generate = generate_notes(generate, model, unique_notes, max_generate, seq_len)\n",
        "write_midi_file_from_generated(generate, \"random.mid\", start_index=seq_len-1, fs=7, max_generated = max_generate)"
      ],
      "execution_count": 53,
      "outputs": [
        {
          "output_type": "stream",
          "name": "stderr",
          "text": [
            "/usr/local/lib/python3.7/dist-packages/ipykernel_launcher.py:2: TqdmDeprecationWarning: This function will be removed in tqdm==5.0.0\n",
            "Please use `tqdm.notebook.tqdm` instead of `tqdm.tqdm_notebook`\n",
            "  \n"
          ]
        },
        {
          "output_type": "display_data",
          "data": {
            "text/plain": [
              "genrt:   0%|          | 0/200 [00:00<?, ?it/s]"
            ],
            "application/vnd.jupyter.widget-view+json": {
              "version_major": 2,
              "version_minor": 0,
              "model_id": "52bfa3788e0e44659fbc75414ab0da4c"
            }
          },
          "metadata": {}
        },
        {
          "output_type": "stream",
          "name": "stdout",
          "text": [
            "Tempo 209.99999999999994\n"
          ]
        }
      ]
    },
    {
      "metadata": {
        "id": "WWr_tXdZQuYX",
        "outputId": "a5528f11-8de6-43e2-f2aa-8e88cbdd1e27",
        "colab": {
          "base_uri": "https://localhost:8080/",
          "height": 118,
          "referenced_widgets": [
            "ac3f0a2ea80d4f1e8f2b7f36d38efefb",
            "5394a10ba1ff4578b95e922833cf1d3e",
            "953d81f475b34be9b12a3c4df15dae66",
            "9e26c31704c742fc8732154450459dc8",
            "4676df403a8d4d41a2b494e77aa1063b",
            "c8582830627545128619cdbb96727ab9",
            "f19018cd4ed7458780f63a736dee1e05",
            "3271c83d405546ab87a350da90be3334",
            "dbb6ed8710cf46608e908e4b490c0e34",
            "deb1406d460a4559a23110253d61dc2c",
            "028c225178214cbabe5a39edb1d17bc9"
          ]
        }
      },
      "cell_type": "code",
      "source": [
        "max_generate = 300\n",
        "unique_notes = note_tokenizer.unique_word\n",
        "seq_len=50\n",
        "generate = generate_from_one_note(note_tokenizer, '72')\n",
        "generate = generate_notes(generate, model, unique_notes, max_generate, seq_len)\n",
        "write_midi_file_from_generated(generate, \"one_note.mid\", start_index=seq_len-1, fs=8, max_generated = max_generate)"
      ],
      "execution_count": 54,
      "outputs": [
        {
          "output_type": "stream",
          "name": "stderr",
          "text": [
            "/usr/local/lib/python3.7/dist-packages/ipykernel_launcher.py:2: TqdmDeprecationWarning: This function will be removed in tqdm==5.0.0\n",
            "Please use `tqdm.notebook.tqdm` instead of `tqdm.tqdm_notebook`\n",
            "  \n"
          ]
        },
        {
          "output_type": "display_data",
          "data": {
            "text/plain": [
              "genrt:   0%|          | 0/300 [00:00<?, ?it/s]"
            ],
            "application/vnd.jupyter.widget-view+json": {
              "version_major": 2,
              "version_minor": 0,
              "model_id": "ac3f0a2ea80d4f1e8f2b7f36d38efefb"
            }
          },
          "metadata": {}
        },
        {
          "output_type": "stream",
          "name": "stdout",
          "text": [
            "Tempo 239.16666666666657\n"
          ]
        }
      ]
    },
    {
      "metadata": {
        "id": "miKl7ys2n6gC"
      },
      "cell_type": "code",
      "source": [
        "# function for plotting the attention weights, taken from MIT course\n",
        "# https://github.com/aamini/introtodeeplearning_labs\n",
        "def plot_attention(attention, sentence, predicted_sentence):\n",
        "    fig = plt.figure(figsize=(10,10))\n",
        "    ax = fig.add_subplot(1, 1, 1)\n",
        "    ax.matshow(attention, cmap='viridis')\n",
        "    \n",
        "    fontdict = {'fontsize': 14}\n",
        "    \n",
        "    ax.set_xticklabels([''] + sentence, fontdict=fontdict, rotation=90)\n",
        "    ax.set_yticklabels([''] + predicted_sentence, fontdict=fontdict)\n",
        "\n",
        "    plt.show()\n"
      ],
      "execution_count": 55,
      "outputs": []
    },
    {
      "metadata": {
        "id": "XOv3jwhF8HSc",
        "outputId": "d28ae5bf-16c9-4e1f-d8f7-82d87e7155ba",
        "colab": {
          "base_uri": "https://localhost:8080/",
          "height": 1000
        }
      },
      "cell_type": "code",
      "source": [
        "start_sequence = 150\n",
        "seq_len = 50\n",
        "\n",
        "def visualize_attention(model, start_sequence, seq_len):\n",
        "  \"\"\" This is where we utilize the eager execution of Tensorflow 2.\n",
        "  \n",
        "  \"\"\"\n",
        "  test_input = np.array([generate])[:,start_sequence:start_sequence+seq_len]\n",
        "  out = test_input\n",
        "\n",
        "  for i, layer in enumerate(model.layers):\n",
        "    out = layer(out)\n",
        "    if i == 3 or i == 6:\n",
        "      print(\"Attention {}\".format(i//3))\n",
        "      attention = out[1][0].numpy()\n",
        "      trans_input = test_input[0].astype(str).tolist()\n",
        "      plot_attention(attention, trans_input, trans_input)\n",
        "      out = out[0]\n",
        "\n",
        "visualize_attention(model, start_sequence, seq_len)"
      ],
      "execution_count": 56,
      "outputs": [
        {
          "output_type": "stream",
          "name": "stdout",
          "text": [
            "Attention 1\n"
          ]
        },
        {
          "output_type": "display_data",
          "data": {
            "text/plain": [
              "<Figure size 720x720 with 1 Axes>"
            ],
            "image/png": "[encoded data removed]"
          },
          "metadata": {
            "needs_background": "light"
          }
        },
        {
          "output_type": "stream",
          "name": "stdout",
          "text": [
            "Attention 2\n"
          ]
        },
        {
          "output_type": "display_data",
          "data": {
            "text/plain": [
              "<Figure size 720x720 with 1 Axes>"
            ],
            "image/png": "[encoded data removed]"
          },
          "metadata": {
            "needs_background": "light"
          }
        }
      ]
    },
    {
      "metadata": {
        "id": "S7kNbc7TikxN",
        "outputId": "bb2e5373-4cd1-4a2c-ab91-582cf60280d5",
        "colab": {
          "base_uri": "https://localhost:8080/",
          "height": 165
        }
      },
      "cell_type": "code",
      "source": [
        "attention[30]"
      ],
      "execution_count": 63,
      "outputs": [
        {
          "output_type": "error",
          "ename": "NameError",
          "evalue": "ignored",
          "traceback": [
            "\u001b[0;31m---------------------------------------------------------------------------\u001b[0m",
            "\u001b[0;31mNameError\u001b[0m                                 Traceback (most recent call last)",
            "\u001b[0;32m<ipython-input-63-a2db14b6547f>\u001b[0m in \u001b[0;36m<module>\u001b[0;34m()\u001b[0m\n\u001b[0;32m----> 1\u001b[0;31m \u001b[0mattention\u001b[0m\u001b[0;34m[\u001b[0m\u001b[0;36m30\u001b[0m\u001b[0;34m]\u001b[0m\u001b[0;34m\u001b[0m\u001b[0;34m\u001b[0m\u001b[0m\n\u001b[0m",
            "\u001b[0;31mNameError\u001b[0m: name 'attention' is not defined"
          ]
        }
      ]
    },
    {
      "cell_type": "code",
      "source": [
        ""
      ],
      "metadata": {
        "id": "Z2To-EFH_Tm1"
      },
      "execution_count": null,
      "outputs": []
    }
  ]
}