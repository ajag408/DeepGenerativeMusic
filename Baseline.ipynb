{
  "nbformat": 4,
  "nbformat_minor": 0,
  "metadata": {
    "colab": {
      "name": "Baseline.ipynb",
      "provenance": []
    },
    "kernelspec": {
      "name": "python3",
      "display_name": "Python 3"
    },
    "language_info": {
      "name": "python"
    }
  },
  "cells": [
    {
      "cell_type": "markdown",
      "metadata": {
        "id": "bZq7szoXjwmh"
      },
      "source": [
        "# Installing Conda"
      ]
    },
    {
      "cell_type": "code",
      "metadata": {
        "id": "FPLGvFaAj3fI",
        "outputId": "508c0abc-b108-4c77-c7b8-d4c08217fa75",
        "colab": {
          "base_uri": "https://localhost:8080/"
        }
      },
      "source": [
        "#Source: https://towardsdatascience.com/conda-google-colab-75f7c867a522\n",
        "\n",
        "#Check if Python path is correct (should return /usr/local/bin/python)\n",
        "\n",
        "!which python"
      ],
      "execution_count": 2,
      "outputs": [
        {
          "output_type": "stream",
          "name": "stdout",
          "text": [
            "/usr/local/bin/python\n"
          ]
        }
      ]
    },
    {
      "cell_type": "code",
      "metadata": {
        "id": "KUKiZWhxkbl3",
        "outputId": "553bae22-d6ac-4321-9e79-d77a223a761c",
        "colab": {
          "base_uri": "https://localhost:8080/"
        }
      },
      "source": [
        "#check Python version\n",
        "\n",
        "!python --version"
      ],
      "execution_count": 3,
      "outputs": [
        {
          "output_type": "stream",
          "name": "stdout",
          "text": [
            "Python 3.7.12\n"
          ]
        }
      ]
    },
    {
      "cell_type": "code",
      "metadata": {
        "id": "4KR12h9zlGWZ"
      },
      "source": [
        "#Check if PYTHONPATH variable has been set"
      ],
      "execution_count": null,
      "outputs": []
    }
  ]
}